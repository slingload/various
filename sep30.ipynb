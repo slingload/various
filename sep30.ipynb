{
 "cells": [
  {
   "cell_type": "code",
   "execution_count": 3,
   "id": "7c924f5d-6eba-4add-bcc3-58bbc033aa45",
   "metadata": {},
   "outputs": [
    {
     "name": "stdout",
     "output_type": "stream",
     "text": [
      "\u001b[33mWARNING: Running pip as the 'root' user can result in broken permissions and conflicting behaviour with the system package manager. It is recommended to use a virtual environment instead: https://pip.pypa.io/warnings/venv\u001b[0m\u001b[33m\n",
      "\u001b[0mNote: you may need to restart the kernel to use updated packages.\n"
     ]
    }
   ],
   "source": [
    "%pip install awswrangler --quiet"
   ]
  },
  {
   "cell_type": "code",
   "execution_count": 4,
   "id": "d17fff21-aa9a-4e11-ae7b-1d43758e9ef3",
   "metadata": {
    "tags": []
   },
   "outputs": [],
   "source": [
    "import boto3\n",
    "import awswrangler as wr\n",
    "import pandas as pd"
   ]
  },
  {
   "cell_type": "code",
   "execution_count": 5,
   "id": "dd5fa183-e127-449f-bd93-6c1e2c8f042d",
   "metadata": {
    "tags": []
   },
   "outputs": [],
   "source": [
    "lowg_query = 's3://universityose-bucket/yvlcmb/LowG/2023/10/07/7e98c65e-1bbd-4f31-9785-1150242ce584.csv'"
   ]
  },
  {
   "cell_type": "code",
   "execution_count": 6,
   "id": "8bda1b50-f749-407f-b5cc-910a890bfdf6",
   "metadata": {
    "tags": []
   },
   "outputs": [],
   "source": [
    "df = wr.s3.read_csv(\n",
    "    boto3_session=boto3.Session(), \n",
    "    path=lowg_query, \n",
    "    path_suffix='.csv',\n",
    "    skip_blank_lines=True)"
   ]
  },
  {
   "cell_type": "code",
   "execution_count": 7,
   "id": "01a2c81d-6182-4727-a88f-365cbecff280",
   "metadata": {
    "tags": []
   },
   "outputs": [
    {
     "data": {
      "text/plain": [
       "157807                      NaT\n",
       "0        0 days 00:00:40.605000\n",
       "Name: gps_time, dtype: timedelta64[ns]"
      ]
     },
     "execution_count": 7,
     "metadata": {},
     "output_type": "execute_result"
    }
   ],
   "source": [
    "df['times_gpsdatetime'] = pd.to_datetime(df.times_gpsdatetime)\n",
    "df.columns =  ['gps_time', 'pitch', 'roll', 'speed', 'descent']\n",
    "df.iloc[[-1, 0]].gps_time.diff()"
   ]
  },
  {
   "cell_type": "code",
   "execution_count": 8,
   "id": "b33e7fc5-1dca-4107-bc72-2ed99f80d22d",
   "metadata": {
    "tags": []
   },
   "outputs": [],
   "source": [
    "diff_cols = [{'_'.join((col, 'diff')): df[col].diff() for col in df.columns.to_list()[1:]}]\n",
   ]
  },
  {
   "cell_type": "code",
   "execution_count": 9,
   "id": "9867a408-02f8-4243-8d35-599fb76bc4f0",
   "metadata": {
    "tags": []
   },
   "outputs": [],
   "source": [
    "# adding the columns with the row-by-row differences to the dataframe\n",
    "for data in diff_cols:\n",
    "    for key, val in data.items(): \n",
    "         df[key] = pd.Series(val)"
   ]
  },
  {
   "cell_type": "code",
   "execution_count": 10,
   "id": "82e344e6-2f09-446a-b90d-cdc7a66be5c4",
   "metadata": {
    "tags": []
   },
   "outputs": [
    {
     "data": {
      "text/html": [
       "<div>\n",
       "<style scoped>\n",
       "    .dataframe tbody tr th:only-of-type {\n",
       "        vertical-align: middle;\n",
       "    }\n",
       "\n",
       "    .dataframe tbody tr th {\n",
       "        vertical-align: top;\n",
       "    }\n",
       "\n",
       "    .dataframe thead th {\n",
       "        text-align: right;\n",
       "    }\n",
       "</style>\n",
       "<table border=\"1\" class=\"dataframe\">\n",
       "  <thead>\n",
       "    <tr style=\"text-align: right;\">\n",
       "      <th></th>\n",
       "      <th>gps_time</th>\n",
       "      <th>pitch</th>\n",
       "      <th>roll</th>\n",
       "      <th>speed</th>\n",
       "      <th>descent</th>\n",
       "      <th>pitch_diff</th>\n",
       "      <th>roll_diff</th>\n",
       "      <th>speed_diff</th>\n",
       "      <th>descent_diff</th>\n",
       "    </tr>\n",
       "  </thead>\n",
       "  <tbody>\n",
       "    <tr>\n",
       "      <th>157803</th>\n",
       "      <td>2023-06-15 20:01:39.518</td>\n",
       "      <td>-4.090</td>\n",
       "      <td>-6.282</td>\n",
       "      <td>5.958612</td>\n",
       "      <td>-4.282</td>\n",
       "      <td>0.005</td>\n",
       "      <td>-0.014</td>\n",
       "      <td>0.003555</td>\n",
       "      <td>0.258</td>\n",
       "    </tr>\n",
       "    <tr>\n",
       "      <th>157804</th>\n",
       "      <td>2023-06-15 20:01:39.535</td>\n",
       "      <td>-4.086</td>\n",
       "      <td>-6.295</td>\n",
       "      <td>5.962166</td>\n",
       "      <td>-4.011</td>\n",
       "      <td>0.004</td>\n",
       "      <td>-0.013</td>\n",
       "      <td>0.003555</td>\n",
       "      <td>0.271</td>\n",
       "    </tr>\n",
       "    <tr>\n",
       "      <th>157805</th>\n",
       "      <td>2023-06-15 20:01:39.552</td>\n",
       "      <td>-4.082</td>\n",
       "      <td>-6.308</td>\n",
       "      <td>5.965721</td>\n",
       "      <td>-3.710</td>\n",
       "      <td>0.004</td>\n",
       "      <td>-0.013</td>\n",
       "      <td>0.003555</td>\n",
       "      <td>0.301</td>\n",
       "    </tr>\n",
       "    <tr>\n",
       "      <th>157806</th>\n",
       "      <td>2023-06-15 20:01:39.579</td>\n",
       "      <td>-4.078</td>\n",
       "      <td>-6.333</td>\n",
       "      <td>5.972239</td>\n",
       "      <td>-3.073</td>\n",
       "      <td>0.004</td>\n",
       "      <td>-0.025</td>\n",
       "      <td>0.006517</td>\n",
       "      <td>0.637</td>\n",
       "    </tr>\n",
       "    <tr>\n",
       "      <th>157807</th>\n",
       "      <td>2023-06-15 20:01:39.597</td>\n",
       "      <td>-4.076</td>\n",
       "      <td>-6.342</td>\n",
       "      <td>5.974016</td>\n",
       "      <td>-2.822</td>\n",
       "      <td>0.002</td>\n",
       "      <td>-0.009</td>\n",
       "      <td>0.001777</td>\n",
       "      <td>0.251</td>\n",
       "    </tr>\n",
       "  </tbody>\n",
       "</table>\n",
       "</div>"
      ],
      "text/plain": [
       "                      gps_time  pitch   roll     speed  descent  pitch_diff  \\\n",
       "157803 2023-06-15 20:01:39.518 -4.090 -6.282  5.958612   -4.282       0.005   \n",
       "157804 2023-06-15 20:01:39.535 -4.086 -6.295  5.962166   -4.011       0.004   \n",
       "157805 2023-06-15 20:01:39.552 -4.082 -6.308  5.965721   -3.710       0.004   \n",
       "157806 2023-06-15 20:01:39.579 -4.078 -6.333  5.972239   -3.073       0.004   \n",
       "157807 2023-06-15 20:01:39.597 -4.076 -6.342  5.974016   -2.822       0.002   \n",
       "\n",
       "        roll_diff  speed_diff  descent_diff  \n",
       "157803     -0.014    0.003555         0.258  \n",
       "157804     -0.013    0.003555         0.271  \n",
       "157805     -0.013    0.003555         0.301  \n",
       "157806     -0.025    0.006517         0.637  \n",
       "157807     -0.009    0.001777         0.251  "
      ]
     },
     "execution_count": 10,
     "metadata": {},
     "output_type": "execute_result"
    }
   ],
   "source": [
    "df.tail()"
   ]
  },
  {
   "cell_type": "code",
   "execution_count": 11,
   "id": "4072dbf3-24db-4a8e-a32d-a288ab05c3bd",
   "metadata": {
    "tags": []
   },
   "outputs": [],
   "source": [
    "rows_per_minute = len(df)/40.605"
   ]
  },
  {
   "cell_type": "code",
   "execution_count": 12,
   "id": "c3156b88-bda1-4877-b46b-3212a5d28668",
   "metadata": {
    "tags": []
   },
   "outputs": [
    {
     "name": "stdout",
     "output_type": "stream",
     "text": [
      "3886.418\n"
     ]
    }
   ],
   "source": [
    "print(round(rows_per_minute, 3))"
   ]
  },
  {
   "cell_type": "code",
   "execution_count": 13,
   "id": "f76cf633-28f4-497d-a0a6-c660a8471a0e",
   "metadata": {
    "tags": []
   },
   "outputs": [],
   "source": [
    "rows_per_second = rows_per_minute / 60"
   ]
  },
  {
   "cell_type": "code",
   "execution_count": 14,
   "id": "03b32dfe-4729-43bb-a6bb-94f204d128cc",
   "metadata": {
    "tags": []
   },
   "outputs": [
    {
     "name": "stdout",
     "output_type": "stream",
     "text": [
      "64.774\n"
     ]
    }
   ],
   "source": [
    "print(round(rows_per_second,3))"
   ]
  },
  {
   "cell_type": "code",
   "execution_count": 15,
   "id": "2f861862-3cf2-4fc9-ba3f-0f29243cbd7b",
   "metadata": {
    "tags": []
   },
   "outputs": [
    {
     "data": {
      "text/plain": [
       "<AxesSubplot:>"
      ]
     },
     "execution_count": 15,
     "metadata": {},
     "output_type": "execute_result"
    },
    {
     "data": {
      "image/png": "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",
      "text/plain": [
       "<Figure size 640x480 with 1 Axes>"
      ]
     },
     "metadata": {},
     "output_type": "display_data"
    }
   ],
   "source": [
    "df.descent_diff.plot()"
   ]
  },
  {
   "cell_type": "code",
   "execution_count": 18,
   "id": "917b2a3e-5c77-44e2-86eb-b0206ac4fdbd",
   "metadata": {
    "tags": []
   },
   "outputs": [
    {
     "data": {
      "text/plain": [
       "5209.245"
      ]
     },
     "execution_count": 18,
     "metadata": {},
     "output_type": "execute_result"
    }
   ],
   "source": [
    "df.descent.max()"
   ]
  },
  {
   "cell_type": "code",
   "execution_count": 19,
   "id": "7627f7d6-98ce-436f-a75f-3dd452f73b66",
   "metadata": {
    "tags": []
   },
   "outputs": [
    {
     "data": {
      "text/plain": [
       "-3873.581"
      ]
     },
     "execution_count": 19,
     "metadata": {},
     "output_type": "execute_result"
    }
   ],
   "source": [
    "df.descent.min()"
   ]
  },
  {
   "cell_type": "code",
   "execution_count": 24,
   "id": "2399e612-ef15-48b2-aded-2adb565daae6",
   "metadata": {
    "tags": []
   },
   "outputs": [
    {
     "data": {
      "text/html": [
       "<div>\n",
       "<style scoped>\n",
       "    .dataframe tbody tr th:only-of-type {\n",
       "        vertical-align: middle;\n",
       "    }\n",
       "\n",
       "    .dataframe tbody tr th {\n",
       "        vertical-align: top;\n",
       "    }\n",
       "\n",
       "    .dataframe thead th {\n",
       "        text-align: right;\n",
       "    }\n",
       "</style>\n",
       "<table border=\"1\" class=\"dataframe\">\n",
       "  <thead>\n",
       "    <tr style=\"text-align: right;\">\n",
       "      <th></th>\n",
       "      <th>gps_time</th>\n",
       "      <th>pitch</th>\n",
       "      <th>roll</th>\n",
       "      <th>speed</th>\n",
       "      <th>descent</th>\n",
       "      <th>pitch_diff</th>\n",
       "      <th>roll_diff</th>\n",
       "      <th>speed_diff</th>\n",
       "      <th>descent_diff</th>\n",
       "    </tr>\n",
       "  </thead>\n",
       "  <tbody>\n",
       "    <tr>\n",
       "      <th>151482</th>\n",
       "      <td>2023-06-15 21:01:35.976</td>\n",
       "      <td>-0.174</td>\n",
       "      <td>-7.105</td>\n",
       "      <td>0.972266</td>\n",
       "      <td>67.178</td>\n",
       "      <td>-7.615</td>\n",
       "      <td>-6.643</td>\n",
       "      <td>-16.617399</td>\n",
       "      <td>1940.363</td>\n",
       "    </tr>\n",
       "  </tbody>\n",
       "</table>\n",
       "</div>"
      ],
      "text/plain": [
       "                      gps_time  pitch   roll     speed  descent  pitch_diff  \\\n",
       "151482 2023-06-15 21:01:35.976 -0.174 -7.105  0.972266   67.178      -7.615   \n",
       "\n",
       "        roll_diff  speed_diff  descent_diff  \n",
       "151482     -6.643  -16.617399      1940.363  "
      ]
     },
     "execution_count": 24,
     "metadata": {},
     "output_type": "execute_result"
    }
   ],
   "source": [
    "df[df.descent_diff == df.descent_diff.max()]"
   ]
  },
  {
   "cell_type": "code",
   "execution_count": 25,
   "id": "3341c5a1-be1b-4126-9d08-42408a033d83",
   "metadata": {
    "tags": []
   },
   "outputs": [
    {
     "data": {
      "text/html": [
       "<div>\n",
       "<style scoped>\n",
       "    .dataframe tbody tr th:only-of-type {\n",
       "        vertical-align: middle;\n",
       "    }\n",
       "\n",
       "    .dataframe tbody tr th {\n",
       "        vertical-align: top;\n",
       "    }\n",
       "\n",
       "    .dataframe thead th {\n",
       "        text-align: right;\n",
       "    }\n",
       "</style>\n",
       "<table border=\"1\" class=\"dataframe\">\n",
       "  <thead>\n",
       "    <tr style=\"text-align: right;\">\n",
       "      <th></th>\n",
       "      <th>gps_time</th>\n",
       "      <th>pitch</th>\n",
       "      <th>roll</th>\n",
       "      <th>speed</th>\n",
       "      <th>descent</th>\n",
       "      <th>pitch_diff</th>\n",
       "      <th>roll_diff</th>\n",
       "      <th>speed_diff</th>\n",
       "      <th>descent_diff</th>\n",
       "    </tr>\n",
       "  </thead>\n",
       "  <tbody>\n",
       "    <tr>\n",
       "      <th>152853</th>\n",
       "      <td>2023-06-15 20:39:29.295</td>\n",
       "      <td>7.439</td>\n",
       "      <td>-0.514</td>\n",
       "      <td>17.443914</td>\n",
       "      <td>-1878.905</td>\n",
       "      <td>6.239</td>\n",
       "      <td>-0.514</td>\n",
       "      <td>17.439767</td>\n",
       "      <td>-1879.368</td>\n",
       "    </tr>\n",
       "  </tbody>\n",
       "</table>\n",
       "</div>"
      ],
      "text/plain": [
       "                      gps_time  pitch   roll      speed   descent  pitch_diff  \\\n",
       "152853 2023-06-15 20:39:29.295  7.439 -0.514  17.443914 -1878.905       6.239   \n",
       "\n",
       "        roll_diff  speed_diff  descent_diff  \n",
       "152853     -0.514   17.439767     -1879.368  "
      ]
     },
     "execution_count": 25,
     "metadata": {},
     "output_type": "execute_result"
    }
   ],
   "source": [
    "df[df.descent_diff == df.descent_diff.min()]"
   ]
  },
  {
   "cell_type": "code",
   "execution_count": 27,
   "id": "e30b1cdf-e4f3-4ac3-9e32-86b4ee5333b9",
   "metadata": {
    "tags": []
   },
   "outputs": [
    {
     "data": {
      "text/plain": [
       "-2.2413454409498213e-05"
      ]
     },
     "execution_count": 27,
     "metadata": {},
     "output_type": "execute_result"
    }
   ],
   "source": [
    "df.descent_diff.mean()"
   ]
  },
  {
   "cell_type": "code",
   "execution_count": 30,
   "id": "7a58cc84-8648-444e-9fce-acc68f746937",
   "metadata": {
    "tags": []
   },
   "outputs": [
    {
     "data": {
      "text/plain": [
       "21.167207040296436"
      ]
     },
     "execution_count": 30,
     "metadata": {},
     "output_type": "execute_result"
    }
   ],
   "source": [
    "# in this cell, subtracting the two row/index numbers that represent\n",
    "# the max desecnt rate from the min descent rate and dividing by average number of \n",
    "# recordings per second\n",
    "(152853 - 151482) / 64.77"
   ]
  },
  {
   "cell_type": "code",
   "execution_count": 31,
   "id": "b560b8cc-8af4-4318-9dc7-e0438e207798",
   "metadata": {
    "tags": []
   },
   "outputs": [],
   "source": [
    "# ^ the min and max descent rates occured within 21 seconds of each other"
   ]
  },
  {
   "cell_type": "code",
   "execution_count": 38,
   "id": "efdf1d03-c51c-4cdc-b564-49a5fbcedba4",
   "metadata": {
    "tags": []
   },
   "outputs": [
    {
     "data": {
      "text/html": [
       "<div>\n",
       "<style scoped>\n",
       "    .dataframe tbody tr th:only-of-type {\n",
       "        vertical-align: middle;\n",
       "    }\n",
       "\n",
       "    .dataframe tbody tr th {\n",
       "        vertical-align: top;\n",
       "    }\n",
       "\n",
       "    .dataframe thead th {\n",
       "        text-align: right;\n",
       "    }\n",
       "</style>\n",
       "<table border=\"1\" class=\"dataframe\">\n",
       "  <thead>\n",
       "    <tr style=\"text-align: right;\">\n",
       "      <th></th>\n",
       "      <th>gps_time</th>\n",
       "      <th>pitch</th>\n",
       "      <th>roll</th>\n",
       "      <th>speed</th>\n",
       "      <th>descent</th>\n",
       "      <th>pitch_diff</th>\n",
       "      <th>roll_diff</th>\n",
       "      <th>speed_diff</th>\n",
       "      <th>descent_diff</th>\n",
       "    </tr>\n",
       "  </thead>\n",
       "  <tbody>\n",
       "    <tr>\n",
       "      <th>143290</th>\n",
       "      <td>2023-06-15 20:36:07.792</td>\n",
       "      <td>1.887</td>\n",
       "      <td>-0.186</td>\n",
       "      <td>47.207348</td>\n",
       "      <td>-43.855</td>\n",
       "      <td>2.052</td>\n",
       "      <td>6.925</td>\n",
       "      <td>46.265891</td>\n",
       "      <td>-113.253</td>\n",
       "    </tr>\n",
       "  </tbody>\n",
       "</table>\n",
       "</div>"
      ],
      "text/plain": [
       "                      gps_time  pitch   roll      speed  descent  pitch_diff  \\\n",
       "143290 2023-06-15 20:36:07.792  1.887 -0.186  47.207348  -43.855       2.052   \n",
       "\n",
       "        roll_diff  speed_diff  descent_diff  \n",
       "143290      6.925   46.265891      -113.253  "
      ]
     },
     "execution_count": 38,
     "metadata": {},
     "output_type": "execute_result"
    }
   ],
   "source": [
    "df[df.roll_diff == df.roll_diff.max()]"
   ]
  },
  {
   "cell_type": "code",
   "execution_count": 32,
   "id": "53a868ee-e163-49e9-8f10-6c857bd7f653",
   "metadata": {
    "tags": []
   },
   "outputs": [
    {
     "data": {
      "text/plain": [
       "<AxesSubplot:>"
      ]
     },
     "execution_count": 32,
     "metadata": {},
     "output_type": "execute_result"
    },
    {
     "data": {
      "image/png": "iVBORw0KGgoAAAANSUhEUgAAAiwAAAGdCAYAAAAxCSikAAAAOXRFWHRTb2Z0d2FyZQBNYXRwbG90bGliIHZlcnNpb24zLjUuMiwgaHR0cHM6Ly9tYXRwbG90bGliLm9yZy8qNh9FAAAACXBIWXMAAA9hAAAPYQGoP6dpAAA5EElEQVR4nO3deXhU1eHG8XeyTUJIAkkIEBJIWGQxshhWQXZZxL1SsYhrtSgISGuF6k9RkWCl1qUFhVqstYq14orKoqwSZEcW2bewI0vCmm3O74+QIZNMQgKZ5M7k+3meeWDunLn3nGRy7zvnnHuvzRhjBAAAYGF+lV0BAACASyGwAAAAyyOwAAAAyyOwAAAAyyOwAAAAyyOwAAAAyyOwAAAAyyOwAAAAywuo7AqUxOFw6MCBAwoLC5PNZqvs6gAAgFIwxujUqVOKjY2Vn1/59I1YOrAcOHBA8fHxlV0NAABwGdLS0hQXF1cu67J0YAkLC5OU1+Dw8PBKrg0AACiNjIwMxcfHO4/j5cHSgSV/GCg8PJzAAgCAlynP6RxMugUAAJZHYAEAAJZHYAEAAJZHYAEAAJZHYAEAAJZHYAEAAJZHYAEAAJZHYAEAAJZHYAEAAJZHYAEAAJZHYAEAAJZHYAEAAJZHYAEAoJyt2XtC76XuljGmsqviMyx9t2YAALzR7ZOXSpJiwoLVL6lOJdfGN9DDAgCAh+w4erqyq+AzCCwAAMDyCCwAAMDyCCwAAMDyCCwAAMDyCCwAAMDyCCwAAMDyCCwAAMDyCCwAAMDyCCwAAMDyCCwAAMDyCCwAAMDyCCwAAMDyCCwAAMDyCCwAAMDyCCwAAMDyCCwAAMDyCCwAAMDyPB5Y9u/fr3vuuUdRUVGqVq2aWrdurVWrVnl6swAAwIcEeHLlJ06cUOfOndWjRw998803iomJ0Y4dO1SjRg1PbhYAAPgYjwaWl19+WfHx8Zo+fbpzWUJCgic3CQAAfJBHh4S++OILtW3bVgMHDlRMTIzatGmjadOmFVs+MzNTGRkZLg8AAACPBpadO3dqypQpatKkiWbPnq2hQ4dqxIgReu+999yWT0lJUUREhPMRHx/vyeoBAAAvYTPGGE+tPCgoSG3bttXSpUudy0aMGKEVK1YoNTW1SPnMzExlZmY6n2dkZCg+Pl7p6ekKDw/3VDUBAChXCWNmSZKe7NtUw3o0ruTaVLyMjAxFRESU6/Hboz0sdevWVYsWLVyWNW/eXHv37nVb3m63Kzw83OUBAADg0cDSuXNnbdmyxWXZ1q1b1aBBA09uFgAA+BiPBpYnnnhCy5Yt04QJE7R9+3Z98MEHmjp1qoYNG+bJzQIAAB/j0cDSrl07ffrpp/rwww+VlJSkF198Ua+99poGDx7syc0CAAAf49HrsEjSTTfdpJtuusnTmwEAAD6MewkBAADLI7AAAADLI7AAAADLI7AAAADLI7AAAADLI7AAAADLI7AAAADLI7AAAADLI7AAAADLI7AAAADLI7AAAADLI7AAAADLI7AAAADLI7AAAADLI7AAAADLI7AAAADLI7AAAADLI7AAAADLI7AAAADLI7AAAADLI7AAAADLI7AAAADLI7AAAADLI7AAAADLI7AAAADLI7AAAADLI7AAAADLI7AAAADLI7AAAADLI7AAAADLI7AAAADLI7AAAADLI7AAAADLI7AAAADLI7AAAADLI7AAAADLI7AAAADLI7AAAADLI7AAAADLq7DAkpKSIpvNplGjRlXUJgEAgI+okMCyYsUKTZ06VS1btqyIzQEAAB/j8cBy+vRpDR48WNOmTVPNmjU9vTkAAOCDPB5Yhg0bpgEDBqh3796XLJuZmamMjAyXBwAAQIAnVz5jxgytXr1aK1asKFX5lJQUPf/8856sEgAA8EIe62FJS0vTyJEj9f777ys4OLhU7xk7dqzS09Odj7S0NE9VDwAAeBGP9bCsWrVKR44cUXJysnNZbm6uFi1apL/97W/KzMyUv7+/y3vsdrvsdrunqgQAALyUxwJLr169tH79epdlDzzwgJo1a6annnqqSFgBAAAojscCS1hYmJKSklyWhYaGKioqqshyAACAknClWwAAYHkePUuosAULFlTk5gAAgI+ghwUAAFgegQUAAFgegQUAAFgegQUAAFgegQUAAFgegQUAAFgegQUAAFgegQUAAFgegQUAAFgegQUAAFgegQUAAFgegQUAAFgegQUAAFgegQUAAFgegQUAAFgegQUAAFgegQUAAFgegQUAAFgegQUAAFgegQUAAFgegQUAAFgegQUAAFgegQUAAFgegQUAAFgegQUAAFgegQUAAFgegQUAAFgegQUAAFgegQUAAFgegQUAAFgegQUAAFgegQUAAFgegQUAAFgegQUAAFgegQUAAFgegQUAAFgegQUAUCUZYyq7CigDAgsAoMo5cSZL1/95viZ+s7myq4JS8mhgSUlJUbt27RQWFqaYmBjddttt2rJliyc3CQDAJb27dLf2nTintxbuqOyqoJQ8GlgWLlyoYcOGadmyZZo7d65ycnLUp08fnTlzxpObBQCgRAwHeZ8AT67822+/dXk+ffp0xcTEaNWqVeratasnNw0AAHyIRwNLYenp6ZKkyMhIt69nZmYqMzPT+TwjI6NC6gUAAKytwibdGmM0evRodenSRUlJSW7LpKSkKCIiwvmIj4+vqOoBAAALq7DAMnz4cP3000/68MMPiy0zduxYpaenOx9paWkVVT0AAGBhFTIk9Pjjj+uLL77QokWLFBcXV2w5u90uu91eEVUCAABexKOBxRijxx9/XJ9++qkWLFigxMRET24OAAD4KI8GlmHDhumDDz7Q559/rrCwMB06dEiSFBERoZCQEE9uGgAA+BCPzmGZMmWK0tPT1b17d9WtW9f5+Oijjzy5WQAA4GM8PiQEAABwpbiXEAAAsDwCCwAAsDwCCwAAsDwCCwAAsDwCCwAAsDwCCwAAsDwCCwAAsDwCCwAAsDwCCwAAsDwCCwAAsDwCCwAAsDwCCwAAsDwCCwAAsDwCCwAAsDwCCwAAsDwCCwAAsDwCCwAAsDwCCwAAsDwCCwAAsDwCCwAAsDwCCwAAsDwCCwAAsDwCCwAAVcDRU5l6dc4W7TtxtrKrclkILAAAVAHDPlitN77frrveXlbZVbksBBbAx+U6jBZvO6qTZ7MquyoAKtHyXcclSftPnqvkmlyeKh1Yjp3O1L3/XK5ZPx2s7KoAHvOfH/doyDvLdcvffqjsqgDAZavSgeXP327Roq1HNeyD1ZVdFcBjvroQyPce985xawCQqnhgOU4XOQAAXqFKBxYAAOAdCCwAAMDyCCwAAMDyCCwokTFGJ84w16ckczYe0ogP1+h0Zk5lV8UtW2VXAADKAYEFJfrTp+vV5sW5mr/5SGVXxbIe+fcqfbHugCbP317ZVXHLVHYFUGVk5zr0+dr9OpR+vrKrAh9EYEGJPlyeJkl6de7WSq6J9R05lVnZVQAq1TtLdmnkjLW64a8LK7sq8EEEFviEs1k5ys51VHY1ysWX6w7o+j9/rw370yu7KkCZLNxyVJJ06rw1h0e93b4TZzVz9T7l+Mi+rqwILMWYvGC7Ji+wZhd/aWTnOsr1BlemFAMLe46d0Zq9J8ptm6V16ny2Wjw7W91fWVDh2566aEe5r/PxD9co7fg5Pfaf8rmgobs5LNm5Dh3J8L1u+x1HT+vU+ezKrkaV5TAMQHrK8TNZ6vLyfI3+7zo1fvqbMr8/zQcuHBlQ2RWoTMVNRkw/l60/f7tFknRncpwee3+1ul5VSyN6Nam4yl2hJhc+0O8+0E7dm8Y4lxtjtPvYWTWIrCY/v9JPx7zUfuh0Zo66XQgMY/s3k7+fTb+9vmGZ610WqTuOqX5UNf18IENS3v0xsnMdCvSvuBw+4evNzv8fTC/f+3Nk5XjuW1T+5+Mf97ZV7xa1y/ReY4xOZ+YoLDjQE1W7bBsPpGvAG0sUERKodc/1qezqVBkrdh9XoL+fWsfX0I8X7lWDyzdt0U5l5TpUq7pdnRpFKT6ymtalndStf7/8W2vM3XRYD7+3shxrWTnoYXFjz7Ezzv9/vHKfVu45oVfnbtX8LUdkvOwbROEP6bTFO9Vj0gKN+3Kj2/LnsnLdfvM+dvrimUIb9qdf6AW4mNhfmrXJ+f+UbzZr/KyfteXQqSutfrFW7j6uu6ctU+eJ3+vtAr0cFfEtorgg8cP2Y5r+w65yu7GYrQJO7/ntZezEWj4/R9eMm6PvNx8u8trRU5keDVolmbMxrz7p5+hhqSgZ57M18K1U3fb3H4oMU2w7fErfbjhUSTXzPit3H9etf/9BL339s16ZvUV//OQnXf/n+ZJUYlgpzTHp7xY9IaCsqnRgmbOp6A5XkstN4nJyL34YHpi+Qp+vPXBF2zTGaNHWo/rldNkmaDocRT+UWTmOS55Km53r+r78HoH3UvfowXdXKGHMLI2csUY/H8zrpeg08Tu1n/CdDhQ66B4qEGJuenOJvlx3QD0mLVCuw+iJj9Y6J+cW5MkDx4rdF4eeNh+8GIzc/JjK1cvfbtZVz3yj30xzf3v257/cpJveWHzJ9azcfVyvz9tW4s7GrwyJ5Q8fr9Otf1vidh7PpX4k24+4D5bFBY/8+QkPvrtSu345oze+26b0s9lKGDNL7V6ap6ueudhdve/EWZ3NurL5DIczzutMKU4Zf/27bVe0HSs6nZlj6S9J6Wcv/o1nFvq83PDXRRr6/iot2FI1zjBcufu43vxu22XPL7nzrVStSztZZHlx+5r3Unfr1r8tUeLYr7XpQi+zOwPeWKy1btbrjSoksEyePFmJiYkKDg5WcnKyFi++9A7dKv7z4x6X55Pm5A0VPff5Bt05ZeklJ3rmOoy2HzmtI6fyDvifrz2ge/+5XH3/ukiSdPJslv63al+JweOlWZvUfsJ32n/ynEtwueqZb5T03GxlFBqzz8zJLbKOAyfPKWHMLJdl3184VfnztQfU//XF2rA/XScv7IBSdxwrsV2SlOMwWrj1iD5ds9/t61MX7fTY6dBLd/zi/P+pAj+7nUdPX/Y6dxw9LWOMjDFuf4aSNGXBjgvbP6a24+e6LXPiwsE7YcwsZy/Thv3penXOFp3PzlvvnW+l6q/ztuqfP+x2vq/bK/NdfkfHzpQ+1P5v1T6t25euqYt26nx2bpl2mr1fXVTk53bH5B901TPf6PO1rr/b44WuydNj0gK9OnerWr0wx2X5jzuP6fbJP6jLy/PV4tnZWrXH/VDB4Yzzavynr5UwZpb2HjurT1bt07bDFwPU/pPn1GHCd+qU8p3b9xtj9PbCHUUOiifPZmnm6n3678o05/PCfyfu1vXdz4fdBgR3XxgKey91txLGzCq3HrZdv5xR0nOz9eC7K8plfZ5QcPh1+5HTalo7rEiZyQt2aOXuyh0qKs3v70rd+Vaq/jJ3q/69bE+R13JyHdr1y5kif5c7j57Wr6YsLfEzs7SYffGzn2/Uun15E/NvfGOxjpw67xIgx32xUf/32QZtLCbMGGOu+MtERfP4HJaPPvpIo0aN0uTJk9W5c2e9/fbb6t+/vzZt2qT69et7evNXrPCpqvtOnJMxRv9KzftQLt91XJ0bRxf7/hEz1mjWhbvl9m5eW/N+zuvVOXYmS1k5Dg14Y4n2nzyn8bM2ae2z7sfdpy3eJUnqPPF757J/3t/W+f//rkhzzhf5ev3BIpM116Wd1PgCQzbFufefy53///3H6+RfaI5LwphZuq11rMuy0f9dV+z65v18WPN+PqzdEwc4l2Xm5CrQz09nsnL0lzlbdW+nBmpYq7qW7TymNXtP6tHujbQu7aQG/+NHDenUQCN6NtGANxdr59EzzvVknM/W4m2/uN3m3E2H1efqOsrJdWjVnhMKDwnUwfRz6tqklnYfO6OPVqRp2uJdGn9bku7p2EDp57J17HSmev6l6GmY1zeJ1l9+3UoxYcGSioa4X05f+oJ6fV9bpO0v9ddNby6RJL3x/XaNu7mF8/UXv9qkBzsnaOOBDO055jqcdT7boWEfrNYbg9robFaOqtsDlDj2a+frW8f3V6C/6+/oldlb9MrsvFD9zn1t9cb324t8a3P3jbfnXxZq6/j+CgrIOwCt3pv3npEz1uqdJbs05Z5k1asRoheKGUos7K6prt8KfzUl1eVzIOUdRIZ/sFo5Fw4mXV+Z73xt/h+66+VvNuvbjXlDChnnc5SZk6un/veTul5VS3dcG5fXlq1HlfLNZhXW+oWLYTIxOlQD30qVJL11z7Xq3by2AtzMcyr4s/3Tjc30SNdGeXXZckQPTM8LDbe2jtWf72wpe4C/y3sLBs3OE7/XK3e21J3JcbJdwbhe/jDr/Atn3ljBf1ekKSbc7pwXF1Dg81fcsMXyXcd151up+v733dSwVnVJeT0zf523VX/o21TV7RcPQ/lhMf/nluswynE4ivy8y+K5zzc499eFP4P5ekxaoH890F71o6q51GXcFxvVpn5N3damntv3nc7M0enzOS6B4/kvN+n5L133twUnyd7Tsb6evelq5TqMc79TcN9+udq/lBfq/ze0k+688Hkvye//u04z1+zXnCe66io3QdOKbMbD/Y0dOnTQtddeqylTpjiXNW/eXLfddptSUlJKfG9GRoYiIiKUnp6u8PDwcquTMUY3vrHEOQwiSeue7SMjo283HNKYmetLva6Hr0/UzqNnFFsjRHM2HdLwnk1UNzxYsTVCFOhv0w0XelLK6v2HOijb4VDHxCg1f/bby1qHVSx/upeOZGQ6D9qF1awWqBNnLz18VDDwlYfS/mH7kuE9GutvxYxnj77hKrWKr6GEqGrOCdQFvXVPsoa+v+qytz11SLIWbj2q//y4V12vqqVFWy//QPzx0E568N0Vl3367OTB1zqD/U/j+mj+5iMaOWNtkXIv3Z6kpz/dUOx6IkODFBESqF2/nHH7+vjbktQgqpqOn8lS1ya1tPOX0/rVlFTVCQ/WzMeuU1aOQ7uPnVGL2HAF+PnJ388mfz+bAvxsavZ/F//ut4zvpwA/P/nZLh7MT5zJUnauQzabTTZb3hCi/4XXchyOCwd7o1V7TmjkjDV64dYk3dwyVrJJfhfK+114b/77bVKBZRfDSGZOrpo+c7E+qWN7ypi8L0jjZ/1c6p/7a3e11svfbtbBAheWm/FIRw0qFHCvbxLt8qVk9qiuqhMeLIcxyjVGp8/naOvhU3rk36vk72fTyF5NVKNaoNKOn9XhjEwNahevn/ana2KhMLt0TE+F2gN0NitHD7+3Uhv2F+19WP50L7V/6TvF1QzRvhN5QaRakL9uallXg9rX19nMXP3nxz36xofm52x+sZ+CAy8/FLrjieO3RwNLVlaWqlWrpo8//li33367c/nIkSO1du1aLVzo+q02MzNTmZkXezQyMjIUHx9f7oFl8bajGvLO8ksXBACLCfCzOXulPMlmyzuTsgI2BQsorvfpcnkisHh0Dssvv/yi3Nxc1a7tetpk7dq1dehQ0XSakpKiiIgI5yM+Pt4j9dp6+PLnOQBAZSptWPGzyTnEdzmMIazAWirkOiyFx3GNMW7HdseOHavRo0c7n+f3sJS3iJCi14/Y9lJ/ZeU4tO3Iaf3t+22a93PpJov+300tdF2jKPV/PW8icY+mtdSkdpjuTI5Tdq5DIYH+budHXMpb9yQrqV64urw8/9KFLW5Xyo06eipT6/en66F/FX8a7Uu3J6l/Ul0F+NuUleNQ2/Hzrni7z36+0WUSXNsGNTXhjmvUp9BQ3Qu3Xq1nPy/d/Iyy+nxY57yhlkKTnsvi77+5VnUi7PrVlPIZwvrn/W314LsXfxe/69pQby/aWS7rHt6jse7vnKDQoACdzsxRu5eu7Pfozsbn++pcdq7LZ6RRrVDtOFp0aOZ33Rrq7YXFt+29B9urc+No+fvZ9Lt/r9TsjeU37Dj6hqv0SNeGCvCz6dT5HLV5MW9uTfvESP33d50kXdwfOi4M4eTP27hmXN5E5pmPXafGMdWVm3vx9VxjlHEuW01rhzmvp1Tw87Vzwo1FrrPkcBg5jJHDXLzAW/5zU8K/7SdcnPC84uneCg70U3V7gHMfnpXjcDkzzJ1mdcI07d62ztN0C+vTorbLWZtRoUE6VmCCd3Cgn9aP63thGCtv2aPvr1afq2vrjmvj9O9le/R/n10culvxdG8t2X5Uszccds6DmvFIR508m6VAfz9dHRshm03qMMF1Mveff9VSf/zkJz3Zt6lemb1FXw7vopv/ljeU/c/726pH0xgdOZWpDhO+kz3Ar8iZUfAsSw0JFeapOSy5DqOpi3bq5W8vjm8W7g4rfHD59LHrdPvkpUXW9d3vu6nRhYlkxSk4aS/flvH95HCoyPyU0CB/bXyhn8uy05k5SnputvP5zgk3asLXP+sfS/Im4658preiQoNks9m0fNdx/WPxTpc//mE9Gunv812vyDowOU5DuzdSrxLC1NcjrteNJZyi+2TfplqXdlJ+Nptzp1DY3Ce6qkkxE7rSjp/VH//3k1J35k1m3THhRpeJvlMW7HD+jvJ/P3M3HdafPl2v/w3tpPqR1VwmShaW/57dv5xR7fBghQRdHKN1t3MvvNPLt3RMT+U6TJGdbVhwQKnmUOxKuVE2m03/WLyz2PH+mDB7kQne1e0BWjq2p8IKHBwcDiObTSW2+5U7W+rJ//0kSbq5Vay+XFf0VPzdEwdo/pYjGvHhGr19T7KuaxyttONnXdrYuXGUfth+TPVqhGjhk931r9Q9evGrS0/e/uTRTkpuEOl8XvhvqeDfWlaOQ6v3ntC6tJNuJ88WJ38d477YqHeX7nYuK7it3RMHyOHIu0Zzoz8V/Xl1b1pL7z7Qvshyh8M4D/bHTmdqy6FTenHWz/r5YIaWPNVDP+1L12P/Wa33HmzvMlF99qiu6v/6Ij3StZEa1grVba3rFenhWLr9F324Ik2v3dW6yKT2wvLbMntUVzWtc+lJkfnlA/xs2j7hxkuWL60Vu49r4FupWvJUD8XVrOa2TL/XFmlzCddd2v5SfwX4++mJj9bq0zX7NWXwtXr0whyiBzon6Lmbr5ZU9Mtsfpsa1grV97/vXmI9tx85rcjQIIXa/V0m6Z46n62gAL8rmrhbnONnsvTv1D3qc3Vt55fWwgp/Lp+9qYUe6JygwxmZOph+Tkt3HHNOlC9P+X+/pbH22RtUo1pQuW7fE8dvj/awBAUFKTk5WXPnznUJLHPnztWtt97qyU2XyN/Ppke7N3IJLCUJDvRTm/o13b52qbAiST2axhT50Bb3x3PjNXWLLKtuD9Dq/7tBg//xo166PUl+fjb9oW9TJdYKVY+mMYqubneWbZ8YqYToai6BpXOj6CKB5ZWBrSRJy8b20vvL9mhk7yYKLLBDkaQWsa4fsimDr1WPZjFaufuEmtYJU62wi9strveguLAiSfGR1fThIx31w/ZfFBLkX2QH/mj3Rnq0eyOXZTe0qK0birkya/+kOm4nwiVEhxZZVnDyaf7BaUjHBrqmXoRyHUZXx4brN9OWqWPDKMXWCJEkzRvdVb1fXeQs+8KtV7sNDlGhQfrznS2dvUn5O+DfXt+w2MCy5KmeWr7ruNom1HROtrTZpPBCV5PNr+uulBv1wLsrtGDL0SLBcmDbeEVXtyshOlSJ0aFFAktSvbzfa4+mMVo/rq9zub3AwfXfD7VXu4RIrdpzQu0SIhXg76eHuiSWKrBcW+hvZftL/Yu9lHhQgJ86NoxSQlSo28CyK+VG7T1+Vst2HtP2I6edZ8zlG93nKkl5wcydwr0MT/S+Sn+dl3cjz6lD2rp7i8t7oqrbdV1ju74Zeb1yHUb+fjbF1azmdry/aZ0w7UwpeR7AdY2jdV0JZxW6U9oTjT58uKNe/GqTxt+eVKb1X0q7hMhLzm94e0iyJnz9s7JzjfNyCcv/1Eu1wuwuAeTVX7fSn25srlphdo3s1UT/W7XP5W/8Ss6qahzjfl/sySsyR4YGaWTvvCugb3upv34zbZmG92yi+/7pOkfy9UGtNXn+Dr01JFmJF/ZHdSKCVSciWG3q17yiwLJ74gAljp3lvBp56tieCgn0V41qQcrKcSj9XHaJvZxDuzUq97DiKR4fEho9erSGDBmitm3bqlOnTpo6dar27t2roUOHenrT5abwQaNDYqR+3HVcT/S+6orXPaJnY32z4ZDG3tgs7wyl/s3dlosMDdI3I693Pg8O9NfgDg3cls0/DddZ34ZRxW6/TkSw/tC3qfP50G6N9Oma/bq+Sd5O9ZZWsfriwgEvONBfwYH+6tKkbDvcSynptPBLKXiG0e5jZ7V74gCtTTupxKiiIaWgP/Rtqgc6Jygy1PUPtXV8Def/Zz7W2eW1htEXd4hj+jdzu3N9/6EOahEbrprVAjXjkY5qWMu1Hqlje+pMZq4a1QrVy99u0VsLd+jPv2qpoAA/58/19UGt9fyXm/T2kORi62+z2fTuA+11PjvX7ez+Hs0u3o6h4BkXq57pXaTN+Qqe6hvk76fgQP/L+t0U/rkE+Ps5u/xjCoTcgupEBOuTRztp+AdrnGeQ3N6mnmw2mxpEhapBVKjbO4aHBwdq3C1XO5/Xj6ymvSVc7fjq2PDLnlx4qR6RytapUZS+LrCPqEgNokL19pC22rA/3RlYYsKDi5Sz2WzOLzpP3HCVRvVuckUhxUoC/f308dDrJOWdVXQ26+K1nG5tXU+3tnZ/arTk2pv9zIDmZTrzSnK9dUrdiBDn/4MC/FQrzK5vR12vfq+57wEqzX3irMLjgeWuu+7SsWPH9MILL+jgwYNKSkrS119/rQYN3B9sK0ONakUT+IOdE/XPH/K+zf3jvrxvYvldbBN/1VL1aoRc0YS2fKP7NNXoPnmBoWezst3TpSRrn71Br3+3TXcmx8nfz+Y8VU/K62IuTtM6YVr3bB+FBed9NB7p2tAZWOyBxbe3YI9FSafOlrdxt1ztPB317vZ5850Kho6SRFV3f/Asjp+frcSDXZfG0S5hrqOboFhwZ/JUv6Z6sEtCkYB5a+t6uqVVbKl25PlhZe4TXfXcFxv1xA1FQ3TB61yU1ObgAr/fgjtbdwoG2dJ44+42WrH7uDokFh+ekxtEKnVsL504k6XF239RnzLe40iSvhl5vWau3qc+V9dxWf7331yrDQfS1at5TDHvvDztEyK1vJIvimYlV8eG63ddGyou0v3QUWG+ElYKe+e+drp72rIi160qTovYcK16prdzfmV+YLmrbbzG9G+mF77aVOwFOkujRoh39KBcSoVMun3sscf02GOPVcSmyiR/COGRrkVv0jesRyN9vf6gbm0dq5ZxNSRJ/36wg05n5RTpcbGiGtWCnOPCUl6vywe/7aBq9oBLjodHFAhwBed9lHSe/uCO9fW3+dsVXT2oQhN7i7oXh62GdKzcEFz4Im6XYrPZioSVgq+VRZPaYfrg4Y5uXyvtLLVqQQWDjfsd3Iu3JenDH/fqmQHNyxRYggP9dX2TWqUqWzM0SLcUM8RzKaH2AA3plFBk+YCWdTWgZdHh1is17b62envhDt1ezIXFyoM37G/y2Ww2jb3RfS9xVdKpUZQ2Pt9XofbSH2LdfZl45qbmCgsO1Nj+za4osNSJCNYf+lylSXOK9lJ6UQdL1b5b8+uD2mjY4VMuB718UdXtSh3b0+XA4edn86qdR2FlHTuXpLACf3DuLrudr25EiJY/3UvhwYF68/uKu6dLk9pheue+tqodHlzp39bKcu+fiuQow7z60TdcpX0nzuqaehFuXx/SsUGRYNg4prq2H8m7VMDA5LjLr6gXiggJ1B/7NfPIut+651qdOp+jOhHuQy2srSxhpbClY3oqM8fhnH+TXQ7nlw/v2cR9YPEiVTqwBAX4KamYHbNU/t2V68f10TXj5ujGa+pcurBFxIQH68XbkmQP8LvkH2BxvQWe1qt5+Q2lXQmL5pUyXUtjRK8mZV5/ZLUgrXqmtxZtO6r+SeXfi5Ev0OJzSMpbPw/+LGFt+RP9nc8jgtU+IVIhQf5aeAVXiHbHizpYqnZgqWhhwYHlfjXBilDZQy1WVvC04cru4SlOWXpYLke9miGKqm7X7W0827ty73UJ+nzdAbdn0gG+zGaz6aPfdZTNZtM/l+zSC6U4W88XVcjdmlG1ePj4aClv3t3G+X+rdgB0SIy8dKHL8NEjHXXHtfX0zICKmbMQERKoeaO7abSbicWAr8v/QvRgl0S1KuWJBb6GHhbgCjWMDtXOX87ollaem3h5JR7skqjwkEBd16j4M3QuR4eGUSWeMg/AQ8rxW6GH739crggswBX64vEu2n7ktFrFFT8fqjIF+vvp7vb1K7saADwk//pD+Zej8FUMCQFXqLo9QK3ja1h2DgsA3/avB9vr9jb19Mmj15X5vV7UwUIPC8qfF33+AcDrJUaH6q93ta7sangcPSwAAFRR3vQFk8ACAAAsj8ACAIAXKc9eEW+aw0JgQbnzpj8AAIB3ILAAAFBFVeTNaq8UgQUAAFgegQUAAFgegQXlzpu6GAGgqqgbEezyr+Rdcw4JLAAAVAEfPNxRA5Pj9J/fdqjsqlwWrnQLAIAXudxekcToUL0ysFX5VqYC0cMCAAAsj8CCctejaYwkqVqQfyXXBABQEuNFk1gYEkK569gwSl8M76z6kdUquyoAAB9BYIFHtIyrUdlVAABcgvf0rzAkBAAAvACBBQAAL1JVr3VFYAEAoIryojm3BBYAAGB9BBYAAKoobxpeIrAAAADLI7AAAFBFMYcFAAB4hDeFjPJEYAEAoIrypuxDYAEAAJZHYAEAoIrypuElAgsAALA8AgsAALA8AgsAAFWW94wJEVgAAPAi3jTvpDwRWAAAqKK8Kfx4LLDs3r1bDz30kBITExUSEqJGjRrpueeeU1ZWlqc2CQAAfFSAp1a8efNmORwOvf3222rcuLE2bNighx9+WGfOnNGkSZM8tVkAAFBK3tTD4rHA0q9fP/Xr18/5vGHDhtqyZYumTJlCYAEAAGXiscDiTnp6uiIjI4t9PTMzU5mZmc7nGRkZFVEtAIAFJTeoqVV7TmhQu/jKrorPqlsjuLKrUGoVFlh27NihN998U3/5y1+KLZOSkqLnn3++oqoEALCwfz/UXuv3pattQvFfdKui8hjFefeBdpq98bB+17VROaytYpR50u24ceNks9lKfKxcudLlPQcOHFC/fv00cOBA/fa3vy123WPHjlV6errzkZaWVvYWAQB8QrWgAHVoGCV/P1tlV8XndG8ao5Q7rlFIkH9lV6XUytzDMnz4cA0aNKjEMgkJCc7/HzhwQD169FCnTp00derUEt9nt9tlt9vLWiUAAODjyhxYoqOjFR0dXaqy+/fvV48ePZScnKzp06fLz4/LvgAAgLLz2ByWAwcOqHv37qpfv74mTZqko0ePOl+rU6eOpzYLAAB8kMcCy5w5c7R9+3Zt375dcXFxLq8ZbzrxGwAAVDqPjdHcf//9Msa4fQAAAJQFk0oAAPAiVfWLP4EFAABYHoEFAABYHoEFAABYHoEFAABYHoEFAABYHoEFAABYHoEFAABYHoEFAABYHoEFAABYHoEFAABYHoEFAABYHoEFAAAvUkVvJURgAQAA1kdgAQAAlkdgAQAAlkdgAQAAlkdgAQAAlkdgAQAAlkdgAQDAixhVzfOaCSwAAMDyCCwAAMDyCCwAAMDyCCwAAMDyCCwAAMDyCCwAAHgRbn4IAABgUQQWAABgeQQWAABgeQQWAABgeQQWAABgeQQWAAC8SBU9SYjAAgAArI/AAgAALI/AAgAALI/AAgAALI/AAgAALI/AAgAALI/AAgCAFzFV9O6HFRJYMjMz1bp1a9lsNq1du7YiNgkAAHxIhQSWP/7xj4qNja2ITQEAAB/k8cDyzTffaM6cOZo0aZKnNwUAAHxUgCdXfvjwYT388MP67LPPVK1atUuWz8zMVGZmpvN5RkaGJ6sHAAC8hMd6WIwxuv/++zV06FC1bdu2VO9JSUlRRESE8xEfH++p6gEAAC9S5sAybtw42Wy2Eh8rV67Um2++qYyMDI0dO7bU6x47dqzS09Odj7S0tLJWDwAAn1Y1zxG6jCGh4cOHa9CgQSWWSUhI0Pjx47Vs2TLZ7XaX19q2bavBgwfrX//6V5H32e32IuUBAADKHFiio6MVHR19yXJvvPGGxo8f73x+4MAB9e3bVx999JE6dOhQ1s0CAIAqzGOTbuvXr+/yvHr16pKkRo0aKS4uzlObBQAAPogr3QIAAMvz6GnNBSUkJFTZywkDAIArQw8LAACwPAILAADepIoOVhBYAACA5RFYAACA5RFYAACA5RFYAACA5RFYAACA5RFYAADwIlX0JCECCwAAsD4CCwAAsDwCCwAAsDwCCwAAsDwCCwAAsDwCCwAAXsSYqnmeEIEFAABYHoEFAABYHoEFAABYHoEFAABYHoEFAABYHoEFAABYHoEFAAAvUjVPaiawAAAAL0BgAQAAlkdgAQAAlkdgAQAAlkdgAQAAlkdgAQDAi1TRex8SWAAAgPURWAAAgOURWAAAgOURWAAAgOURWAAAgOURWAAA8CKmit5NiMACAAAsj8ACAAAsj8ACAAAsj8ACAAAsj8ACAAAsz+OBZdasWerQoYNCQkIUHR2tO+64w9ObBAAAPibAkyv/5JNP9PDDD2vChAnq2bOnjDFav369JzcJAIBPq6o3P/RYYMnJydHIkSP1yiuv6KGHHnIub9q0qac2CQAAfJTHhoRWr16t/fv3y8/PT23atFHdunXVv39/bdy40VObBAAAPspjgWXnzp2SpHHjxumZZ57RV199pZo1a6pbt246fvy42/dkZmYqIyPD5QEAAFDmwDJu3DjZbLYSHytXrpTD4ZAkPf300/rVr36l5ORkTZ8+XTabTR9//LHbdaekpCgiIsL5iI+Pv7LWAQAAn1DmOSzDhw/XoEGDSiyTkJCgU6dOSZJatGjhXG6329WwYUPt3bvX7fvGjh2r0aNHO59nZGQQWgAAQNkDS3R0tKKjoy9ZLjk5WXa7XVu2bFGXLl0kSdnZ2dq9e7caNGjg9j12u112u72sVQIAoMrgLKFyFh4erqFDh+q5555TfHy8GjRooFdeeUWSNHDgQE9tFgAA+CCPXofllVdeUUBAgIYMGaJz586pQ4cO+v7771WzZk1PbhYAAPgYjwaWwMBATZo0SZMmTfLkZgAAgI/jXkIAAMDyCCwAAMDyCCwAAMDyCCwAAMDyCCwAAMDyCCwAAMDyCCwAAMDyCCwAAMDyCCwAAMDyCCwAAHiRbk1rSZJqh1etmwV79NL8AACgfD0zoLma1wlT7xa1K7sqFYrAAgCAF6kWFKAhnRIquxoVjiEhAABgeQQWAABgeQQWAABgeQQWAABgeQQWAABgeQQWAABgeQQWAABgeQQWAABgeQQWAABgeQQWAABgeQQWAABgeQQWAABgeQQWAABgeZa+W7MxRpKUkZFRyTUBAACllX/czj+OlwdLB5ZTp05JkuLj4yu5JgAAoKxOnTqliIiIclmXzZRn/ClnDodDBw4cUFhYmGw2W7muOyMjQ/Hx8UpLS1N4eHi5rtsqaKNvoI2+oyq0kzb6hittozFGp06dUmxsrPz8ymf2iaV7WPz8/BQXF+fRbYSHh/vsBy4fbfQNtNF3VIV20kbfcCVtLK+elXxMugUAAJZHYAEAAJZXZQOL3W7Xc889J7vdXtlV8Rja6Btoo++oCu2kjb7Bim209KRbAAAAqQr3sAAAAO9BYAEAAJZHYAEAAJZHYAEAAJZXJQPL5MmTlZiYqODgYCUnJ2vx4sWVXSVJUkpKitq1a6ewsDDFxMTotttu05YtW1zKGGM0btw4xcbGKiQkRN27d9fGjRtdymRmZurxxx9XdHS0QkNDdcstt2jfvn0uZU6cOKEhQ4YoIiJCERERGjJkiE6ePOlSZu/evbr55psVGhqq6OhojRgxQllZWeXeZpvNplGjRvlUG/fv36977rlHUVFRqlatmlq3bq1Vq1b5TBtzcnL0zDPPKDExUSEhIWrYsKFeeOEFORwOr23jokWLdPPNNys2NlY2m02fffaZy+tWa8/69evVrVs3hYSEqF69enrhhRdKdd+WktqZnZ2tp556Stdcc41CQ0MVGxure++9VwcOHPCqdl7qd1nQ7373O9lsNr322ms+18aff/5Zt9xyiyIiIhQWFqaOHTtq7969XtPGIkwVM2PGDBMYGGimTZtmNm3aZEaOHGlCQ0PNnj17Krtqpm/fvmb69Olmw4YNZu3atWbAgAGmfv365vTp084yEydONGFhYeaTTz4x69evN3fddZepW7euycjIcJYZOnSoqVevnpk7d65ZvXq16dGjh2nVqpXJyclxlunXr59JSkoyS5cuNUuXLjVJSUnmpptucr6ek5NjkpKSTI8ePczq1avN3LlzTWxsrBk+fHi5tXf58uUmISHBtGzZ0owcOdJn2nj8+HHToEEDc//995sff/zR7Nq1y8ybN89s377dZ9o4fvx4ExUVZb766iuza9cu8/HHH5vq1aub1157zWvb+PXXX5unn37afPLJJ0aS+fTTT11et1J70tPTTe3atc2gQYPM+vXrzSeffGLCwsLMpEmTrqidJ0+eNL179zYfffSR2bx5s0lNTTUdOnQwycnJLuuwejsv9bvM9+mnn5pWrVqZ2NhY89e//tWn2rh9+3YTGRlpnnzySbN69WqzY8cO89VXX5nDhw97TRsLq3KBpX379mbo0KEuy5o1a2bGjBlTSTUq3pEjR4wks3DhQmOMMQ6Hw9SpU8dMnDjRWeb8+fMmIiLCvPXWW8aYvB1OYGCgmTFjhrPM/v37jZ+fn/n222+NMcZs2rTJSDLLli1zlklNTTWSzObNm40xeX8Mfn5+Zv/+/c4yH374obHb7SY9Pf2K23bq1CnTpEkTM3fuXNOtWzdnYPGFNj711FOmS5cuxb7uC20cMGCAefDBB12W3XHHHeaee+7xiTYWPgBYrT2TJ082ERER5vz5884yKSkpJjY21jgcjstupzvLly83kpxf6rytncW1cd++faZevXpmw4YNpkGDBi6BxRfaeNdddzn/Ht3xtjYaY0yVGhLKysrSqlWr1KdPH5flffr00dKlSyupVsVLT0+XJEVGRkqSdu3apUOHDrnU3263q1u3bs76r1q1StnZ2S5lYmNjlZSU5CyTmpqqiIgIdejQwVmmY8eOioiIcCmTlJSk2NhYZ5m+ffsqMzPTZWjjcg0bNkwDBgxQ7969XZb7Qhu/+OILtW3bVgMHDlRMTIzatGmjadOm+VQbu3Tpou+++05bt26VJK1bt05LlizRjTfe6DNtLMhq7UlNTVW3bt1cLurVt29fHThwQLt37y6XNudLT0+XzWZTjRo1fKadDodDQ4YM0ZNPPqmrr766yOve3kaHw6FZs2bpqquuUt++fRUTE6MOHTq4DBt5YxurVGD55ZdflJubq9q1a7ssr127tg4dOlRJtXLPGKPRo0erS5cuSkpKkiRnHUuq/6FDhxQUFKSaNWuWWCYmJqbINmNiYlzKFN5OzZo1FRQUdMU/qxkzZmj16tVKSUkp8povtHHnzp2aMmWKmjRpotmzZ2vo0KEaMWKE3nvvPZ9p41NPPaW7775bzZo1U2BgoNq0aaNRo0bp7rvv9pk2FmS19rgrk/+8PPdl58+f15gxY/Sb3/zGeQM8X2jnyy+/rICAAI0YMcLt697exiNHjuj06dOaOHGi+vXrpzlz5uj222/XHXfcoYULF3ptGy19t2ZPsdlsLs+NMUWWVbbhw4frp59+0pIlS4q8djn1L1zGXfnLKVNWaWlpGjlypObMmaPg4OBiy3lzGx0Oh9q2basJEyZIktq0aaONGzdqypQpuvfee4vdtje18aOPPtL777+vDz74QFdffbXWrl2rUaNGKTY2Vvfdd1+x2/amNrpjpfa4q0tx770c2dnZGjRokBwOhyZPnnzJ8t7SzlWrVun111/X6tWry7wOb2lj/uT3W2+9VU888YQkqXXr1lq6dKneeustdevWrdj3WrmNVaqHJTo6Wv7+/kUS3ZEjR4qkv8r0+OOP64svvtD8+fMVFxfnXF6nTh1JRRNpwfrXqVNHWVlZOnHiRIllDh8+XGS7R48edSlTeDsnTpxQdnb2Ff2sVq1apSNHjig5OVkBAQEKCAjQwoUL9cYbbyggIKDY1O1Nbaxbt65atGjhsqx58+bO2fm+8Ht88sknNWbMGA0aNEjXXHONhgwZoieeeMLZa+YLbSzIau1xV+bIkSOSivYCXY7s7Gz9+te/1q5duzR37lxn70r+tr25nYsXL9aRI0dUv3595z5oz549+v3vf6+EhASfaGN0dLQCAgIuuR/ytjZWqcASFBSk5ORkzZ0712X53Llzdd1111VSrS4yxmj48OGaOXOmvv/+eyUmJrq8npiYqDp16rjUPysrSwsXLnTWPzk5WYGBgS5lDh48qA0bNjjLdOrUSenp6Vq+fLmzzI8//qj09HSXMhs2bNDBgwedZebMmSO73a7k5OTLbmOvXr20fv16rV271vlo27atBg8erLVr16phw4Ze38bOnTsXOR1969atatCggSTf+D2ePXtWfn6uuw9/f3/nNztfaGNBVmtPp06dtGjRIpdTR+fMmaPY2FjnQfdy5YeVbdu2ad68eYqKinJ53dvbOWTIEP30008u+6DY2Fg9+eSTmj17tk+0MSgoSO3atStxP+SVbSz19FwfkX9a8zvvvGM2bdpkRo0aZUJDQ83u3bsru2rm0UcfNREREWbBggXm4MGDzsfZs2edZSZOnGgiIiLMzJkzzfr1683dd9/t9tTKuLg4M2/ePLN69WrTs2dPt6eqtWzZ0qSmpprU1FRzzTXXuD1VrVevXmb16tVm3rx5Ji4urlxPa85X8CwhX2jj8uXLTUBAgHnppZfMtm3bzH/+8x9TrVo18/777/tMG++77z5Tr14952nNM2fONNHR0eaPf/yj17bx1KlTZs2aNWbNmjVGknn11VfNmjVrnGfHWKk9J0+eNLVr1zZ33323Wb9+vZk5c6YJDw8v1WmiJbUzOzvb3HLLLSYuLs6sXbvWZT+UmZnpNe281O+ysMJnCflCG2fOnGkCAwPN1KlTzbZt28ybb75p/P39zeLFi72mjYVVucBijDF///vfTYMGDUxQUJC59tprnacNVzZJbh/Tp093lnE4HOa5554zderUMXa73XTt2tWsX7/eZT3nzp0zw4cPN5GRkSYkJMTcdNNNZu/evS5ljh07ZgYPHmzCwsJMWFiYGTx4sDlx4oRLmT179pgBAwaYkJAQExkZaYYPH+5yWlp5KRxYfKGNX375pUlKSjJ2u900a9bMTJ061eV1b29jRkaGGTlypKlfv74JDg42DRs2NE8//bTLQc3b2jh//ny3f3/33XefJdvz008/meuvv97Y7XZTp04dM27cuFKdIlpSO3ft2lXsfmj+/Ple085L/S4LcxdYfKGN77zzjmncuLEJDg42rVq1Mp999plXtbEwmzFlvdQcAABAxapSc1gAAIB3IrAAAADLI7AAAADLI7AAAADLI7AAAADLI7AAAADLI7AAAADLI7AAAADLI7AAAADLI7AAAADLI7AAAADLI7AAAADL+38Hubqk2Z0gPAAAAABJRU5ErkJggg==",
      "text/plain": [
       "<Figure size 640x480 with 1 Axes>"
      ]
     },
     "metadata": {},
     "output_type": "display_data"
    }
   ],
   "source": [
    "df.roll_diff.plot()"
   ]
  },
  {
   "cell_type": "code",
   "execution_count": 39,
   "id": "c8511eab-c5e5-48e7-b762-14e61880b47f",
   "metadata": {
    "tags": []
   },
   "outputs": [
    {
     "data": {
      "text/html": [
       "<div>\n",
       "<style scoped>\n",
       "    .dataframe tbody tr th:only-of-type {\n",
       "        vertical-align: middle;\n",
       "    }\n",
       "\n",
       "    .dataframe tbody tr th {\n",
       "        vertical-align: top;\n",
       "    }\n",
       "\n",
       "    .dataframe thead th {\n",
       "        text-align: right;\n",
       "    }\n",
       "</style>\n",
       "<table border=\"1\" class=\"dataframe\">\n",
       "  <thead>\n",
       "    <tr style=\"text-align: right;\">\n",
       "      <th></th>\n",
       "      <th>gps_time</th>\n",
       "      <th>pitch</th>\n",
       "      <th>roll</th>\n",
       "      <th>speed</th>\n",
       "      <th>descent</th>\n",
       "      <th>pitch_diff</th>\n",
       "      <th>roll_diff</th>\n",
       "      <th>speed_diff</th>\n",
       "      <th>descent_diff</th>\n",
       "    </tr>\n",
       "  </thead>\n",
       "  <tbody>\n",
       "    <tr>\n",
       "      <th>151482</th>\n",
       "      <td>2023-06-15 21:01:35.976</td>\n",
       "      <td>-0.174</td>\n",
       "      <td>-7.105</td>\n",
       "      <td>0.972266</td>\n",
       "      <td>67.178</td>\n",
       "      <td>-7.615</td>\n",
       "      <td>-6.643</td>\n",
       "      <td>-16.617399</td>\n",
       "      <td>1940.363</td>\n",
       "    </tr>\n",
       "  </tbody>\n",
       "</table>\n",
       "</div>"
      ],
      "text/plain": [
       "                      gps_time  pitch   roll     speed  descent  pitch_diff  \\\n",
       "151482 2023-06-15 21:01:35.976 -0.174 -7.105  0.972266   67.178      -7.615   \n",
       "\n",
       "        roll_diff  speed_diff  descent_diff  \n",
       "151482     -6.643  -16.617399      1940.363  "
      ]
     },
     "execution_count": 39,
     "metadata": {},
     "output_type": "execute_result"
    }
   ],
   "source": [
    "df[df.roll_diff == df.roll_diff.min()]"
   ]
  },
  {
   "cell_type": "code",
   "execution_count": 51,
   "id": "72bece3d-084a-44d2-9b74-caa209937e6b",
   "metadata": {
    "tags": []
   },
   "outputs": [
    {
     "data": {
      "text/html": [
       "<div>\n",
       "<style scoped>\n",
       "    .dataframe tbody tr th:only-of-type {\n",
       "        vertical-align: middle;\n",
       "    }\n",
       "\n",
       "    .dataframe tbody tr th {\n",
       "        vertical-align: top;\n",
       "    }\n",
       "\n",
       "    .dataframe thead th {\n",
       "        text-align: right;\n",
       "    }\n",
       "</style>\n",
       "<table border=\"1\" class=\"dataframe\">\n",
       "  <thead>\n",
       "    <tr style=\"text-align: right;\">\n",
       "      <th></th>\n",
       "      <th>gps_time</th>\n",
       "      <th>pitch</th>\n",
       "      <th>roll</th>\n",
       "      <th>speed</th>\n",
       "      <th>descent</th>\n",
       "      <th>pitch_diff</th>\n",
       "      <th>roll_diff</th>\n",
       "      <th>speed_diff</th>\n",
       "      <th>descent_diff</th>\n",
       "    </tr>\n",
       "  </thead>\n",
       "  <tbody>\n",
       "    <tr>\n",
       "      <th>151482</th>\n",
       "      <td>True</td>\n",
       "      <td>True</td>\n",
       "      <td>True</td>\n",
       "      <td>True</td>\n",
       "      <td>True</td>\n",
       "      <td>True</td>\n",
       "      <td>True</td>\n",
       "      <td>True</td>\n",
       "      <td>True</td>\n",
       "    </tr>\n",
       "  </tbody>\n",
       "</table>\n",
       "</div>"
      ],
      "text/plain": [
       "        gps_time  pitch  roll  speed  descent  pitch_diff  roll_diff  \\\n",
       "151482      True   True  True   True     True        True       True   \n",
       "\n",
       "        speed_diff  descent_diff  \n",
       "151482        True          True  "
      ]
     },
     "execution_count": 51,
     "metadata": {},
     "output_type": "execute_result"
    }
   ],
   "source": [
    "df[df.roll_diff == df.roll_diff.min()].iloc[0] == df[df.descent_diff == df.descent_diff.max()]"
   ]
  }
 ],
 "metadata": {
  "availableInstances": [
   {
    "_defaultOrder": 0,
    "_isFastLaunch": true,
    "category": "General purpose",
    "gpuNum": 0,
    "hideHardwareSpecs": false,
    "memoryGiB": 4,
    "name": "ml.t3.medium",
    "vcpuNum": 2
   },
   {
    "_defaultOrder": 1,
    "_isFastLaunch": false,
    "category": "General purpose",
    "gpuNum": 0,
    "hideHardwareSpecs": false,
    "memoryGiB": 8,
    "name": "ml.t3.large",
    "vcpuNum": 2
   },
   {
    "_defaultOrder": 2,
    "_isFastLaunch": false,
    "category": "General purpose",
    "gpuNum": 0,
    "hideHardwareSpecs": false,
    "memoryGiB": 16,
    "name": "ml.t3.xlarge",
    "vcpuNum": 4
   },
   {
    "_defaultOrder": 3,
    "_isFastLaunch": false,
    "category": "General purpose",
    "gpuNum": 0,
    "hideHardwareSpecs": false,
    "memoryGiB": 32,
    "name": "ml.t3.2xlarge",
    "vcpuNum": 8
   },
   {
    "_defaultOrder": 4,
    "_isFastLaunch": true,
    "category": "General purpose",
    "gpuNum": 0,
    "hideHardwareSpecs": false,
    "memoryGiB": 8,
    "name": "ml.m5.large",
    "vcpuNum": 2
   },
   {
    "_defaultOrder": 5,
    "_isFastLaunch": false,
    "category": "General purpose",
    "gpuNum": 0,
    "hideHardwareSpecs": false,
    "memoryGiB": 16,
    "name": "ml.m5.xlarge",
    "vcpuNum": 4
   },
   {
    "_defaultOrder": 6,
    "_isFastLaunch": false,
    "category": "General purpose",
    "gpuNum": 0,
    "hideHardwareSpecs": false,
    "memoryGiB": 32,
    "name": "ml.m5.2xlarge",
    "vcpuNum": 8
   },
   {
    "_defaultOrder": 7,
    "_isFastLaunch": false,
    "category": "General purpose",
    "gpuNum": 0,
    "hideHardwareSpecs": false,
    "memoryGiB": 64,
    "name": "ml.m5.4xlarge",
    "vcpuNum": 16
   },
   {
    "_defaultOrder": 8,
    "_isFastLaunch": false,
    "category": "General purpose",
    "gpuNum": 0,
    "hideHardwareSpecs": false,
    "memoryGiB": 128,
    "name": "ml.m5.8xlarge",
    "vcpuNum": 32
   },
   {
    "_defaultOrder": 9,
    "_isFastLaunch": false,
    "category": "General purpose",
    "gpuNum": 0,
    "hideHardwareSpecs": false,
    "memoryGiB": 192,
    "name": "ml.m5.12xlarge",
    "vcpuNum": 48
   },
   {
    "_defaultOrder": 10,
    "_isFastLaunch": false,
    "category": "General purpose",
    "gpuNum": 0,
    "hideHardwareSpecs": false,
    "memoryGiB": 256,
    "name": "ml.m5.16xlarge",
    "vcpuNum": 64
   },
   {
    "_defaultOrder": 11,
    "_isFastLaunch": false,
    "category": "General purpose",
    "gpuNum": 0,
    "hideHardwareSpecs": false,
    "memoryGiB": 384,
    "name": "ml.m5.24xlarge",
    "vcpuNum": 96
   },
   {
    "_defaultOrder": 12,
    "_isFastLaunch": false,
    "category": "General purpose",
    "gpuNum": 0,
    "hideHardwareSpecs": false,
    "memoryGiB": 8,
    "name": "ml.m5d.large",
    "vcpuNum": 2
   },
   {
    "_defaultOrder": 13,
    "_isFastLaunch": false,
    "category": "General purpose",
    "gpuNum": 0,
    "hideHardwareSpecs": false,
    "memoryGiB": 16,
    "name": "ml.m5d.xlarge",
    "vcpuNum": 4
   },
   {
    "_defaultOrder": 14,
    "_isFastLaunch": false,
    "category": "General purpose",
    "gpuNum": 0,
    "hideHardwareSpecs": false,
    "memoryGiB": 32,
    "name": "ml.m5d.2xlarge",
    "vcpuNum": 8
   },
   {
    "_defaultOrder": 15,
    "_isFastLaunch": false,
    "category": "General purpose",
    "gpuNum": 0,
    "hideHardwareSpecs": false,
    "memoryGiB": 64,
    "name": "ml.m5d.4xlarge",
    "vcpuNum": 16
   },
   {
    "_defaultOrder": 16,
    "_isFastLaunch": false,
    "category": "General purpose",
    "gpuNum": 0,
    "hideHardwareSpecs": false,
    "memoryGiB": 128,
    "name": "ml.m5d.8xlarge",
    "vcpuNum": 32
   },
   {
    "_defaultOrder": 17,
    "_isFastLaunch": false,
    "category": "General purpose",
    "gpuNum": 0,
    "hideHardwareSpecs": false,
    "memoryGiB": 192,
    "name": "ml.m5d.12xlarge",
    "vcpuNum": 48
   },
   {
    "_defaultOrder": 18,
    "_isFastLaunch": false,
    "category": "General purpose",
    "gpuNum": 0,
    "hideHardwareSpecs": false,
    "memoryGiB": 256,
    "name": "ml.m5d.16xlarge",
    "vcpuNum": 64
   },
   {
    "_defaultOrder": 19,
    "_isFastLaunch": false,
    "category": "General purpose",
    "gpuNum": 0,
    "hideHardwareSpecs": false,
    "memoryGiB": 384,
    "name": "ml.m5d.24xlarge",
    "vcpuNum": 96
   },
   {
    "_defaultOrder": 20,
    "_isFastLaunch": false,
    "category": "General purpose",
    "gpuNum": 0,
    "hideHardwareSpecs": true,
    "memoryGiB": 0,
    "name": "ml.geospatial.interactive",
    "supportedImageNames": [
     "sagemaker-geospatial-v1-0"
    ],
    "vcpuNum": 0
   },
   {
    "_defaultOrder": 21,
    "_isFastLaunch": true,
    "category": "Compute optimized",
    "gpuNum": 0,
    "hideHardwareSpecs": false,
    "memoryGiB": 4,
    "name": "ml.c5.large",
    "vcpuNum": 2
   },
   {
    "_defaultOrder": 22,
    "_isFastLaunch": false,
    "category": "Compute optimized",
    "gpuNum": 0,
    "hideHardwareSpecs": false,
    "memoryGiB": 8,
    "name": "ml.c5.xlarge",
    "vcpuNum": 4
   },
   {
    "_defaultOrder": 23,
    "_isFastLaunch": false,
    "category": "Compute optimized",
    "gpuNum": 0,
    "hideHardwareSpecs": false,
    "memoryGiB": 16,
    "name": "ml.c5.2xlarge",
    "vcpuNum": 8
   },
   {
    "_defaultOrder": 24,
    "_isFastLaunch": false,
    "category": "Compute optimized",
    "gpuNum": 0,
    "hideHardwareSpecs": false,
    "memoryGiB": 32,
    "name": "ml.c5.4xlarge",
    "vcpuNum": 16
   },
   {
    "_defaultOrder": 25,
    "_isFastLaunch": false,
    "category": "Compute optimized",
    "gpuNum": 0,
    "hideHardwareSpecs": false,
    "memoryGiB": 72,
    "name": "ml.c5.9xlarge",
    "vcpuNum": 36
   },
   {
    "_defaultOrder": 26,
    "_isFastLaunch": false,
    "category": "Compute optimized",
    "gpuNum": 0,
    "hideHardwareSpecs": false,
    "memoryGiB": 96,
    "name": "ml.c5.12xlarge",
    "vcpuNum": 48
   },
   {
    "_defaultOrder": 27,
    "_isFastLaunch": false,
    "category": "Compute optimized",
    "gpuNum": 0,
    "hideHardwareSpecs": false,
    "memoryGiB": 144,
    "name": "ml.c5.18xlarge",
    "vcpuNum": 72
   },
   {
    "_defaultOrder": 28,
    "_isFastLaunch": false,
    "category": "Compute optimized",
    "gpuNum": 0,
    "hideHardwareSpecs": false,
    "memoryGiB": 192,
    "name": "ml.c5.24xlarge",
    "vcpuNum": 96
   },
   {
    "_defaultOrder": 29,
    "_isFastLaunch": true,
    "category": "Accelerated computing",
    "gpuNum": 1,
    "hideHardwareSpecs": false,
    "memoryGiB": 16,
    "name": "ml.g4dn.xlarge",
    "vcpuNum": 4
   },
   {
    "_defaultOrder": 30,
    "_isFastLaunch": false,
    "category": "Accelerated computing",
    "gpuNum": 1,
    "hideHardwareSpecs": false,
    "memoryGiB": 32,
    "name": "ml.g4dn.2xlarge",
    "vcpuNum": 8
   },
   {
    "_defaultOrder": 31,
    "_isFastLaunch": false,
    "category": "Accelerated computing",
    "gpuNum": 1,
    "hideHardwareSpecs": false,
    "memoryGiB": 64,
    "name": "ml.g4dn.4xlarge",
    "vcpuNum": 16
   },
   {
    "_defaultOrder": 32,
    "_isFastLaunch": false,
    "category": "Accelerated computing",
    "gpuNum": 1,
    "hideHardwareSpecs": false,
    "memoryGiB": 128,
    "name": "ml.g4dn.8xlarge",
    "vcpuNum": 32
   },
   {
    "_defaultOrder": 33,
    "_isFastLaunch": false,
    "category": "Accelerated computing",
    "gpuNum": 4,
    "hideHardwareSpecs": false,
    "memoryGiB": 192,
    "name": "ml.g4dn.12xlarge",
    "vcpuNum": 48
   },
   {
    "_defaultOrder": 34,
    "_isFastLaunch": false,
    "category": "Accelerated computing",
    "gpuNum": 1,
    "hideHardwareSpecs": false,
    "memoryGiB": 256,
    "name": "ml.g4dn.16xlarge",
    "vcpuNum": 64
   },
   {
    "_defaultOrder": 35,
    "_isFastLaunch": false,
    "category": "Accelerated computing",
    "gpuNum": 1,
    "hideHardwareSpecs": false,
    "memoryGiB": 61,
    "name": "ml.p3.2xlarge",
    "vcpuNum": 8
   },
   {
    "_defaultOrder": 36,
    "_isFastLaunch": false,
    "category": "Accelerated computing",
    "gpuNum": 4,
    "hideHardwareSpecs": false,
    "memoryGiB": 244,
    "name": "ml.p3.8xlarge",
    "vcpuNum": 32
   },
   {
    "_defaultOrder": 37,
    "_isFastLaunch": false,
    "category": "Accelerated computing",
    "gpuNum": 8,
    "hideHardwareSpecs": false,
    "memoryGiB": 488,
    "name": "ml.p3.16xlarge",
    "vcpuNum": 64
   },
   {
    "_defaultOrder": 38,
    "_isFastLaunch": false,
    "category": "Accelerated computing",
    "gpuNum": 8,
    "hideHardwareSpecs": false,
    "memoryGiB": 768,
    "name": "ml.p3dn.24xlarge",
    "vcpuNum": 96
   },
   {
    "_defaultOrder": 39,
    "_isFastLaunch": false,
    "category": "Memory Optimized",
    "gpuNum": 0,
    "hideHardwareSpecs": false,
    "memoryGiB": 16,
    "name": "ml.r5.large",
    "vcpuNum": 2
   },
   {
    "_defaultOrder": 40,
    "_isFastLaunch": false,
    "category": "Memory Optimized",
    "gpuNum": 0,
    "hideHardwareSpecs": false,
    "memoryGiB": 32,
    "name": "ml.r5.xlarge",
    "vcpuNum": 4
   },
   {
    "_defaultOrder": 41,
    "_isFastLaunch": false,
    "category": "Memory Optimized",
    "gpuNum": 0,
    "hideHardwareSpecs": false,
    "memoryGiB": 64,
    "name": "ml.r5.2xlarge",
    "vcpuNum": 8
   },
   {
    "_defaultOrder": 42,
    "_isFastLaunch": false,
    "category": "Memory Optimized",
    "gpuNum": 0,
    "hideHardwareSpecs": false,
    "memoryGiB": 128,
    "name": "ml.r5.4xlarge",
    "vcpuNum": 16
   },
   {
    "_defaultOrder": 43,
    "_isFastLaunch": false,
    "category": "Memory Optimized",
    "gpuNum": 0,
    "hideHardwareSpecs": false,
    "memoryGiB": 256,
    "name": "ml.r5.8xlarge",
    "vcpuNum": 32
   },
   {
    "_defaultOrder": 44,
    "_isFastLaunch": false,
    "category": "Memory Optimized",
    "gpuNum": 0,
    "hideHardwareSpecs": false,
    "memoryGiB": 384,
    "name": "ml.r5.12xlarge",
    "vcpuNum": 48
   },
   {
    "_defaultOrder": 45,
    "_isFastLaunch": false,
    "category": "Memory Optimized",
    "gpuNum": 0,
    "hideHardwareSpecs": false,
    "memoryGiB": 512,
    "name": "ml.r5.16xlarge",
    "vcpuNum": 64
   },
   {
    "_defaultOrder": 46,
    "_isFastLaunch": false,
    "category": "Memory Optimized",
    "gpuNum": 0,
    "hideHardwareSpecs": false,
    "memoryGiB": 768,
    "name": "ml.r5.24xlarge",
    "vcpuNum": 96
   },
   {
    "_defaultOrder": 47,
    "_isFastLaunch": false,
    "category": "Accelerated computing",
    "gpuNum": 1,
    "hideHardwareSpecs": false,
    "memoryGiB": 16,
    "name": "ml.g5.xlarge",
    "vcpuNum": 4
   },
   {
    "_defaultOrder": 48,
    "_isFastLaunch": false,
    "category": "Accelerated computing",
    "gpuNum": 1,
    "hideHardwareSpecs": false,
    "memoryGiB": 32,
    "name": "ml.g5.2xlarge",
    "vcpuNum": 8
   },
   {
    "_defaultOrder": 49,
    "_isFastLaunch": false,
    "category": "Accelerated computing",
    "gpuNum": 1,
    "hideHardwareSpecs": false,
    "memoryGiB": 64,
    "name": "ml.g5.4xlarge",
    "vcpuNum": 16
   },
   {
    "_defaultOrder": 50,
    "_isFastLaunch": false,
    "category": "Accelerated computing",
    "gpuNum": 1,
    "hideHardwareSpecs": false,
    "memoryGiB": 128,
    "name": "ml.g5.8xlarge",
    "vcpuNum": 32
   },
   {
    "_defaultOrder": 51,
    "_isFastLaunch": false,
    "category": "Accelerated computing",
    "gpuNum": 1,
    "hideHardwareSpecs": false,
    "memoryGiB": 256,
    "name": "ml.g5.16xlarge",
    "vcpuNum": 64
   },
   {
    "_defaultOrder": 52,
    "_isFastLaunch": false,
    "category": "Accelerated computing",
    "gpuNum": 4,
    "hideHardwareSpecs": false,
    "memoryGiB": 192,
    "name": "ml.g5.12xlarge",
    "vcpuNum": 48
   },
   {
    "_defaultOrder": 53,
    "_isFastLaunch": false,
    "category": "Accelerated computing",
    "gpuNum": 4,
    "hideHardwareSpecs": false,
    "memoryGiB": 384,
    "name": "ml.g5.24xlarge",
    "vcpuNum": 96
   },
   {
    "_defaultOrder": 54,
    "_isFastLaunch": false,
    "category": "Accelerated computing",
    "gpuNum": 8,
    "hideHardwareSpecs": false,
    "memoryGiB": 768,
    "name": "ml.g5.48xlarge",
    "vcpuNum": 192
   },
   {
    "_defaultOrder": 55,
    "_isFastLaunch": false,
    "category": "Accelerated computing",
    "gpuNum": 8,
    "hideHardwareSpecs": false,
    "memoryGiB": 1152,
    "name": "ml.p4d.24xlarge",
    "vcpuNum": 96
   },
   {
    "_defaultOrder": 56,
    "_isFastLaunch": false,
    "category": "Accelerated computing",
    "gpuNum": 8,
    "hideHardwareSpecs": false,
    "memoryGiB": 1152,
    "name": "ml.p4de.24xlarge",
    "vcpuNum": 96
   }
  ],
  "instance_type": "ml.t3.medium",
  "kernelspec": {
   "display_name": "Python 3 (Data Science 3.0)",
   "language": "python",
   "name": "python3__SAGEMAKER_INTERNAL__arn:aws:sagemaker:us-east-1:081325390199:image/sagemaker-data-science-310-v1"
  },
  "language_info": {
   "codemirror_mode": {
    "name": "ipython",
    "version": 3
   },
   "file_extension": ".py",
   "mimetype": "text/x-python",
   "name": "python",
   "nbconvert_exporter": "python",
   "pygments_lexer": "ipython3",
   "version": "3.10.6"
  }
 },
 "nbformat": 4,
 "nbformat_minor": 5
}
